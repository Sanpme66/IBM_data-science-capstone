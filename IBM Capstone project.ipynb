{
  "nbformat": 4,
  "nbformat_minor": 0,
  "metadata": {
    "colab": {
      "name": "Untitled19.ipynb",
      "provenance": [],
      "private_outputs": true,
      "authorship_tag": "ABX9TyP8fGodXRSg4/2Fc4ft43Ke",
      "include_colab_link": true
    },
    "kernelspec": {
      "name": "python3",
      "display_name": "Python 3"
    }
  },
  "cells": [
    {
      "cell_type": "markdown",
      "metadata": {
        "id": "view-in-github",
        "colab_type": "text"
      },
      "source": [
        "<a href=\"https://colab.research.google.com/github/Sanpme66/IBM_data-science-capstone/blob/master/IBM%20Capstone%20project.ipynb\" target=\"_parent\"><img src=\"https://colab.research.google.com/assets/colab-badge.svg\" alt=\"Open In Colab\"/></a>"
      ]
    },
    {
      "cell_type": "markdown",
      "metadata": {
        "id": "E_SyVC8PIHHj",
        "colab_type": "text"
      },
      "source": [
        "IBM Capstone project\n",
        "WEEK-1"
      ]
    },
    {
      "cell_type": "code",
      "metadata": {
        "id": "LIh3HNFbGqjW",
        "colab_type": "code",
        "colab": {}
      },
      "source": [
        "import pandas as pd\n",
        "import numpy as np"
      ],
      "execution_count": 0,
      "outputs": []
    },
    {
      "cell_type": "code",
      "metadata": {
        "id": "bkUXKKyeH1C8",
        "colab_type": "code",
        "colab": {}
      },
      "source": [
        "print('Hello IBM Capstone project')"
      ],
      "execution_count": 0,
      "outputs": []
    },
    {
      "cell_type": "code",
      "metadata": {
        "id": "gojkiB5FH-28",
        "colab_type": "code",
        "colab": {}
      },
      "source": [
        ""
      ],
      "execution_count": 0,
      "outputs": []
    }
  ]
}